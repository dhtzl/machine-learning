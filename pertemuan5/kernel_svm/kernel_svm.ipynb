{
 "cells": [
  {
   "cell_type": "code",
   "execution_count": 1,
   "metadata": {},
   "outputs": [],
   "source": [
    "import sklearn\n",
    "from sklearn import svm\n",
    "from sklearn import datasets\n",
    "from sklearn import metrics"
   ]
  },
  {
   "cell_type": "code",
   "execution_count": 2,
   "metadata": {},
   "outputs": [],
   "source": [
    "cancer = datasets.load_breast_cancer()"
   ]
  },
  {
   "cell_type": "code",
   "execution_count": 3,
   "metadata": {},
   "outputs": [
    {
     "name": "stdout",
     "output_type": "stream",
     "text": [
      "Features:  ['mean radius' 'mean texture' 'mean perimeter' 'mean area'\n",
      " 'mean smoothness' 'mean compactness' 'mean concavity'\n",
      " 'mean concave points' 'mean symmetry' 'mean fractal dimension'\n",
      " 'radius error' 'texture error' 'perimeter error' 'area error'\n",
      " 'smoothness error' 'compactness error' 'concavity error'\n",
      " 'concave points error' 'symmetry error' 'fractal dimension error'\n",
      " 'worst radius' 'worst texture' 'worst perimeter' 'worst area'\n",
      " 'worst smoothness' 'worst compactness' 'worst concavity'\n",
      " 'worst concave points' 'worst symmetry' 'worst fractal dimension']\n",
      "Labels:  ['malignant' 'benign']\n"
     ]
    }
   ],
   "source": [
    "print(\"Features: \", cancer.feature_names)\n",
    "print(\"Labels: \", cancer.target_names)\n"
   ]
  },
  {
   "cell_type": "code",
   "execution_count": 4,
   "metadata": {},
   "outputs": [],
   "source": [
    "x = cancer.data  # All of the features\n",
    "y = cancer.target  # All of the labels"
   ]
  },
  {
   "cell_type": "code",
   "execution_count": 5,
   "metadata": {},
   "outputs": [
    {
     "name": "stdout",
     "output_type": "stream",
     "text": [
      "[[1.142e+01 2.038e+01 7.758e+01 3.861e+02 1.425e-01 2.839e-01 2.414e-01\n",
      "  1.052e-01 2.597e-01 9.744e-02 4.956e-01 1.156e+00 3.445e+00 2.723e+01\n",
      "  9.110e-03 7.458e-02 5.661e-02 1.867e-02 5.963e-02 9.208e-03 1.491e+01\n",
      "  2.650e+01 9.887e+01 5.677e+02 2.098e-01 8.663e-01 6.869e-01 2.575e-01\n",
      "  6.638e-01 1.730e-01]\n",
      " [1.747e+01 2.468e+01 1.161e+02 9.846e+02 1.049e-01 1.603e-01 2.159e-01\n",
      "  1.043e-01 1.538e-01 6.365e-02 1.088e+00 1.410e+00 7.337e+00 1.223e+02\n",
      "  6.174e-03 3.634e-02 4.644e-02 1.569e-02 1.145e-02 5.120e-03 2.314e+01\n",
      "  3.233e+01 1.553e+02 1.660e+03 1.376e-01 3.830e-01 4.890e-01 1.721e-01\n",
      "  2.160e-01 9.300e-02]\n",
      " [1.337e+01 1.639e+01 8.610e+01 5.535e+02 7.115e-02 7.325e-02 8.092e-02\n",
      "  2.800e-02 1.422e-01 5.823e-02 1.639e-01 1.140e+00 1.223e+00 1.466e+01\n",
      "  5.919e-03 3.270e-02 4.957e-02 1.038e-02 1.208e-02 4.076e-03 1.426e+01\n",
      "  2.275e+01 9.199e+01 6.321e+02 1.025e-01 2.531e-01 3.308e-01 8.978e-02\n",
      "  2.048e-01 7.628e-02]\n",
      " [1.026e+01 1.222e+01 6.575e+01 3.216e+02 9.996e-02 7.542e-02 1.923e-02\n",
      "  1.968e-02 1.800e-01 6.569e-02 1.911e-01 5.477e-01 1.348e+00 1.188e+01\n",
      "  5.682e-03 1.365e-02 8.496e-03 6.929e-03 1.938e-02 2.371e-03 1.138e+01\n",
      "  1.565e+01 7.323e+01 3.945e+02 1.343e-01 1.650e-01 8.615e-02 6.696e-02\n",
      "  2.937e-01 7.722e-02]\n",
      " [1.234e+01 1.227e+01 7.894e+01 4.685e+02 9.003e-02 6.307e-02 2.958e-02\n",
      "  2.647e-02 1.689e-01 5.808e-02 1.166e-01 4.957e-01 7.714e-01 8.955e+00\n",
      "  3.681e-03 9.169e-03 8.732e-03 5.740e-03 1.129e-02 1.366e-03 1.361e+01\n",
      "  1.927e+01 8.722e+01 5.649e+02 1.292e-01 2.074e-01 1.791e-01 1.070e-01\n",
      "  3.110e-01 7.592e-02]] [0 0 1 1 1]\n"
     ]
    }
   ],
   "source": [
    "x_train, x_test, y_train, y_test = sklearn.model_selection.train_test_split(x, y, test_size=0.2)\n",
    "print(x_train[:5], y_train[:5])\n"
   ]
  },
  {
   "cell_type": "code",
   "execution_count": 6,
   "metadata": {},
   "outputs": [],
   "source": [
    "\"\"\" Change the Kernel to another option \n",
    "- linear\n",
    "- poly\n",
    "- rbf\n",
    "- sigmoid\n",
    "- precomputed\n",
    "\"\"\"\n",
    "clf = svm.SVC(kernel=\"linear\")"
   ]
  },
  {
   "cell_type": "code",
   "execution_count": 7,
   "metadata": {},
   "outputs": [
    {
     "name": "stdout",
     "output_type": "stream",
     "text": [
      "0.9473684210526315\n",
      "0.9385964912280702\n"
     ]
    }
   ],
   "source": [
    "clf_with_margin = svm.SVC(kernel=\"linear\", C=2)\n",
    "\n",
    "clf.fit(x_train, y_train)\n",
    "clf_with_margin.fit(x_train, y_train)\n",
    "\n",
    "y_pred = clf.predict(x_test)\n",
    "y_pred_margin = clf_with_margin.predict(x_test)\n",
    "\n",
    "acc = metrics.accuracy_score(y_test, y_pred)\n",
    "acc_margin = metrics.accuracy_score(y_test, y_pred_margin)\n",
    "\n",
    "print(acc)\n",
    "print(acc_margin)"
   ]
  }
 ],
 "metadata": {
  "interpreter": {
   "hash": "916dbcbb3f70747c44a77c7bcd40155683ae19c65e1c03b4aa3499c5328201f1"
  },
  "kernelspec": {
   "display_name": "Python 3.8.10 64-bit",
   "language": "python",
   "name": "python3"
  },
  "language_info": {
   "codemirror_mode": {
    "name": "ipython",
    "version": 3
   },
   "file_extension": ".py",
   "mimetype": "text/x-python",
   "name": "python",
   "nbconvert_exporter": "python",
   "pygments_lexer": "ipython3",
   "version": "3.8.10"
  },
  "orig_nbformat": 4
 },
 "nbformat": 4,
 "nbformat_minor": 2
}
