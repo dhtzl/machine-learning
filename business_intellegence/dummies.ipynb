{
 "cells": [
  {
   "cell_type": "code",
   "execution_count": 2,
   "metadata": {},
   "outputs": [
    {
     "ename": "NameError",
     "evalue": "name 'data' is not defined",
     "output_type": "error",
     "traceback": [
      "\u001b[0;31m---------------------------------------------------------------------------\u001b[0m",
      "\u001b[0;31mNameError\u001b[0m                                 Traceback (most recent call last)",
      "Cell \u001b[0;32mIn [2], line 1\u001b[0m\n\u001b[0;32m----> 1\u001b[0m total_kasus \u001b[38;5;241m=\u001b[39m \u001b[43mdata\u001b[49m[data[\u001b[38;5;124m'\u001b[39m\u001b[38;5;124mLocation\u001b[39m\u001b[38;5;124m'\u001b[39m]\u001b[38;5;241m==\u001b[39m\u001b[38;5;124m'\u001b[39m\u001b[38;5;124mIndonesia\u001b[39m\u001b[38;5;124m'\u001b[39m]\u001b[38;5;241m.\u001b[39magg({\u001b[38;5;124m'\u001b[39m\u001b[38;5;124mNew Cases\u001b[39m\u001b[38;5;124m'\u001b[39m:[\u001b[38;5;124m'\u001b[39m\u001b[38;5;124msum\u001b[39m\u001b[38;5;124m'\u001b[39m]})\n\u001b[1;32m      2\u001b[0m total_kematian \u001b[38;5;241m=\u001b[39m data[data[\u001b[38;5;124m'\u001b[39m\u001b[38;5;124mLocation\u001b[39m\u001b[38;5;124m'\u001b[39m]\u001b[38;5;241m==\u001b[39m\u001b[38;5;124m'\u001b[39m\u001b[38;5;124mIndonesia\u001b[39m\u001b[38;5;124m'\u001b[39m]\u001b[38;5;241m.\u001b[39magg({\u001b[38;5;124m'\u001b[39m\u001b[38;5;124mNew Deaths\u001b[39m\u001b[38;5;124m'\u001b[39m:[\u001b[38;5;124m'\u001b[39m\u001b[38;5;124msum\u001b[39m\u001b[38;5;124m'\u001b[39m]})\n\u001b[1;32m      3\u001b[0m total_kesembuhan \u001b[38;5;241m=\u001b[39m data[data[\u001b[38;5;124m'\u001b[39m\u001b[38;5;124mLocation\u001b[39m\u001b[38;5;124m'\u001b[39m]\u001b[38;5;241m==\u001b[39m\u001b[38;5;124m'\u001b[39m\u001b[38;5;124mIndonesia\u001b[39m\u001b[38;5;124m'\u001b[39m]\u001b[38;5;241m.\u001b[39magg({\u001b[38;5;124m'\u001b[39m\u001b[38;5;124mNew Recovered\u001b[39m\u001b[38;5;124m'\u001b[39m:[\u001b[38;5;124m'\u001b[39m\u001b[38;5;124msum\u001b[39m\u001b[38;5;124m'\u001b[39m]})\n",
      "\u001b[0;31mNameError\u001b[0m: name 'data' is not defined"
     ]
    }
   ],
   "source": [
    "data = cases[['country_region', 'date', 'retail_and_recreation', 'grocery_and_pharmacy', \n",
    "        'parks', 'transit_stations', 'workplaces', 'residential']]\n",
    "\n",
    "total_retail_and_recreation = data[data['country_region']=='Indonesia'].agg({'retail_and_recreation':['sum']})\n",
    "total_grocery_and_pharmacy = data[data['country_region']=='Indonesia'].agg({'grocery_and_pharmacy':['sum']})\n",
    "total_parks = data[data['country_region']=='Indonesia'].agg({'parks':['sum']})\n",
    "\n",
    "isi_chart = [total_retail_and_recreation,total_grocery_and_pharmacy,total_parks]\n",
    "keterangan = 'Total Retail','Total Greocery','Total Parks'\n",
    "plt.figure(figsize=(10,10))\n",
    "plt.pie(isi_chart, labels=keterangan,autopct='%1.1f%%')\n",
    "plt.title(\"Perbandingan Kasus di Indonesia\")\n",
    "\n",
    "total_kasus = data[data['Location']=='Indonesia'].agg({'New Cases':['sum']})\n",
    "total_kematian = data[data['Location']=='Indonesia'].agg({'New Deaths':['sum']})\n",
    "total_kesembuhan = data[data['Location']=='Indonesia'].agg({'New Recovered':['sum']})\n",
    "\n",
    "isi_chart = [total_kasus,total_kematian,total_kesembuhan]\n",
    "keterangan = 'Total Kasus','Total Kematian','Total Kesembuhan'\n",
    "plt.figure(figsize=(10,10))\n",
    "plt.pie(isi_chart, labels=keterangan,autopct='%1.1f%%')\n",
    "plt.title(\"Perbandingan Kasus di Indonesia\")\n",
    "\n",
    "isi_chart=[total_jawa,total_sumatra,total_kalimantan,total_nusatenggara,total_sulawesi,total_maluku,total_papua]\n",
    "keterangan='Jawa','Sumatera','Kalimantan','NusaTenggara','Sulawesi','Maluku','Papua'\n",
    "\n",
    "plt.figure(figsize=(10,10))\n",
    "plt.pie(isi_chart,labels=keterangan,autopct='%1.1f%%')\n",
    "\n",
    "plt.title(\"PerbandinganKasusAntarPulaudiIndonesia\")\n",
    "\n",
    "isi_chart=[kematian_jawa,kematian_sumatra,kematian_kalimantan,kematian_nusatenggara,kematian_sulawesi,kematian_maluku,kematian_papua]\n",
    "\n",
    "keterangan='Jawa','Sumatera','Kalimantan','NusaTenggara','Sulawesi','Maluku','Papua'\n",
    "plt.figure(figsize=(10,10))\n",
    "plt.pie(isi_chart,labels=keterangan,autopct='%1.1f%%')\n",
    "plt.title(\"PerbandinganTotalKematianAntarPulaudiIndonesia\")"
   ]
  }
 ],
 "metadata": {
  "kernelspec": {
   "display_name": "Python 3.8.10 64-bit",
   "language": "python",
   "name": "python3"
  },
  "language_info": {
   "codemirror_mode": {
    "name": "ipython",
    "version": 3
   },
   "file_extension": ".py",
   "mimetype": "text/x-python",
   "name": "python",
   "nbconvert_exporter": "python",
   "pygments_lexer": "ipython3",
   "version": "3.8.10"
  },
  "orig_nbformat": 4,
  "vscode": {
   "interpreter": {
    "hash": "916dbcbb3f70747c44a77c7bcd40155683ae19c65e1c03b4aa3499c5328201f1"
   }
  }
 },
 "nbformat": 4,
 "nbformat_minor": 2
}
