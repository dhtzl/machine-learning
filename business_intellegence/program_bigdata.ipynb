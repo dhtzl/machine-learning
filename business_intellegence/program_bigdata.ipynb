{
 "cells": [
  {
   "cell_type": "code",
   "execution_count": 17,
   "metadata": {},
   "outputs": [
    {
     "name": "stdout",
     "output_type": "stream",
     "text": [
      "      country_region_code country_region  sub_region_1  sub_region_2  \\\n",
      "0                      ID      Indonesia           NaN           NaN   \n",
      "1                      ID      Indonesia           NaN           NaN   \n",
      "2                      ID      Indonesia           NaN           NaN   \n",
      "3                      ID      Indonesia           NaN           NaN   \n",
      "4                      ID      Indonesia           NaN           NaN   \n",
      "...                   ...            ...           ...           ...   \n",
      "11230                  ID      Indonesia  West Sumatra           NaN   \n",
      "11231                  ID      Indonesia  West Sumatra           NaN   \n",
      "11232                  ID      Indonesia  West Sumatra           NaN   \n",
      "11233                  ID      Indonesia  West Sumatra           NaN   \n",
      "11234                  ID      Indonesia  West Sumatra           NaN   \n",
      "\n",
      "       metro_area iso_3166_2_code  census_fips_code  \\\n",
      "0             NaN             NaN               NaN   \n",
      "1             NaN             NaN               NaN   \n",
      "2             NaN             NaN               NaN   \n",
      "3             NaN             NaN               NaN   \n",
      "4             NaN             NaN               NaN   \n",
      "...           ...             ...               ...   \n",
      "11230         NaN           ID-SB               NaN   \n",
      "11231         NaN           ID-SB               NaN   \n",
      "11232         NaN           ID-SB               NaN   \n",
      "11233         NaN           ID-SB               NaN   \n",
      "11234         NaN           ID-SB               NaN   \n",
      "\n",
      "                          place_id        date  retail_and_recreation  \\\n",
      "0      ChIJtwRkSdcHTCwRhfStG-dNe-M  2020-02-15                   -2.0   \n",
      "1      ChIJtwRkSdcHTCwRhfStG-dNe-M  2020-02-16                   -3.0   \n",
      "2      ChIJtwRkSdcHTCwRhfStG-dNe-M  2020-02-17                   -3.0   \n",
      "3      ChIJtwRkSdcHTCwRhfStG-dNe-M  2020-02-18                   -3.0   \n",
      "4      ChIJtwRkSdcHTCwRhfStG-dNe-M  2020-02-19                   -3.0   \n",
      "...                            ...         ...                    ...   \n",
      "11230  ChIJRUJ08Ey51C8RVTvVdblRsXA  2020-12-27                    4.0   \n",
      "11231  ChIJRUJ08Ey51C8RVTvVdblRsXA  2020-12-28                    2.0   \n",
      "11232  ChIJRUJ08Ey51C8RVTvVdblRsXA  2020-12-29                    1.0   \n",
      "11233  ChIJRUJ08Ey51C8RVTvVdblRsXA  2020-12-30                   11.0   \n",
      "11234  ChIJRUJ08Ey51C8RVTvVdblRsXA  2020-12-31                   17.0   \n",
      "\n",
      "       grocery_and_pharmacy  parks  transit_stations  workplaces  residential  \n",
      "0                      -2.0   -8.0               1.0           5            1  \n",
      "1                      -3.0   -7.0              -4.0           2            2  \n",
      "2                      -4.0   -7.0              -1.0           3            1  \n",
      "3                      -2.0   -4.0               1.0           2            1  \n",
      "4                      -4.0   -3.0               0.0           1            1  \n",
      "...                     ...    ...               ...         ...          ...  \n",
      "11230                  28.0   29.0              -8.0          -2            4  \n",
      "11231                  25.0   32.0              -3.0         -30            9  \n",
      "11232                  26.0   32.0               2.0         -30            8  \n",
      "11233                  38.0   53.0               5.0         -28            8  \n",
      "11234                  50.0   51.0              10.0         -46           10  \n",
      "\n",
      "[11235 rows x 15 columns]\n"
     ]
    }
   ],
   "source": [
    "import pandas as pd #library untuk memproses data\n",
    "import matplotlib.pyplot as plt #library untuk visualisasi\n",
    "\n",
    "pd.set_option(\"display.max_columns\",50)\n",
    "cases = pd.read_csv(\"../business_intellegence/2020_ID_Region_Mobility_Report.csv\")\n",
    "cases.head()\n",
    "print(cases)\n",
    "\n",
    "\n",
    "\n"
   ]
  }
 ],
 "metadata": {
  "kernelspec": {
   "display_name": "Python 3.8.10 64-bit",
   "language": "python",
   "name": "python3"
  },
  "language_info": {
   "codemirror_mode": {
    "name": "ipython",
    "version": 3
   },
   "file_extension": ".py",
   "mimetype": "text/x-python",
   "name": "python",
   "nbconvert_exporter": "python",
   "pygments_lexer": "ipython3",
   "version": "3.8.10"
  },
  "orig_nbformat": 4,
  "vscode": {
   "interpreter": {
    "hash": "916dbcbb3f70747c44a77c7bcd40155683ae19c65e1c03b4aa3499c5328201f1"
   }
  }
 },
 "nbformat": 4,
 "nbformat_minor": 2
}
